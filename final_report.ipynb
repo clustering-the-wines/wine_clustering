{
 "cells": [
  {
   "cell_type": "markdown",
   "id": "6b941d23",
   "metadata": {},
   "source": [
    "# Wine Quality Clustering and Predictions"
   ]
  },
  {
   "cell_type": "markdown",
   "id": "ae8e1fa3",
   "metadata": {},
   "source": [
    "## Project Goals"
   ]
  },
  {
   "cell_type": "markdown",
   "id": "f2155e77",
   "metadata": {},
   "source": [
    "<div class=\"alert alert-block alert-info\">\n",
    "<b>Highlights:</b>\n",
    "</br>\n",
    "\n",
    "* identify features of wine that influence wine quality\n",
    "</br>\n",
    "\n",
    "* identify best features to use in order to cluster data points\n",
    "</br>\n",
    "\n",
    "* use classification models to predict wine quality\n",
    "    \n"
   ]
  },
  {
   "cell_type": "code",
   "execution_count": null,
   "id": "b68e5dec",
   "metadata": {},
   "outputs": [],
   "source": []
  },
  {
   "cell_type": "markdown",
   "id": "9e9fcc4a",
   "metadata": {},
   "source": [
    "## Acquire"
   ]
  },
  {
   "cell_type": "markdown",
   "id": "32920a88",
   "metadata": {},
   "source": [
    "<div class=\"alert alert-block alert-info\">\n",
    "<b>Highlights:</b>\n",
    "</br>\n",
    "\n",
    "* Wine data was obtained from data.world\n",
    "</br>\n",
    "\n",
    "* Data was obtained 1/30/2023\n",
    "</br>\n",
    "\n",
    "* Dataframe had 6,497 rows by 14 columns before preparing\n",
    "</br>\n",
    "\n",
    "* Each row represents a wine and each column is a feature of that wine\n",
    "    "
   ]
  },
  {
   "cell_type": "code",
   "execution_count": null,
   "id": "95ae05d4",
   "metadata": {},
   "outputs": [],
   "source": []
  },
  {
   "cell_type": "markdown",
   "id": "bc232474",
   "metadata": {},
   "source": [
    "## Prepare"
   ]
  },
  {
   "cell_type": "markdown",
   "id": "a237b94d",
   "metadata": {},
   "source": [
    "<div class=\"alert alert-block alert-success\">\n",
    "<b>Highlights:</b>\n",
    "</br>\n",
    "\n",
    "* There were no null values in the dataset\n",
    "</br>\n",
    "\n",
    "* columns were renamed to include underscore\n",
    "</br>\n",
    "\n",
    "* outliers were identified and removed from each column\n",
    "</br>\n",
    "\n",
    "* Each row represents a wine and each column is a feature of that wine\n",
    "    "
   ]
  },
  {
   "cell_type": "code",
   "execution_count": null,
   "id": "4e381322",
   "metadata": {},
   "outputs": [],
   "source": []
  },
  {
   "cell_type": "code",
   "execution_count": null,
   "id": "edccf214",
   "metadata": {},
   "outputs": [],
   "source": []
  }
 ],
 "metadata": {
  "kernelspec": {
   "display_name": "Python 3 (ipykernel)",
   "language": "python",
   "name": "python3"
  },
  "language_info": {
   "codemirror_mode": {
    "name": "ipython",
    "version": 3
   },
   "file_extension": ".py",
   "mimetype": "text/x-python",
   "name": "python",
   "nbconvert_exporter": "python",
   "pygments_lexer": "ipython3",
   "version": "3.9.13"
  },
  "toc": {
   "base_numbering": 1,
   "nav_menu": {},
   "number_sections": true,
   "sideBar": true,
   "skip_h1_title": false,
   "title_cell": "Table of Contents",
   "title_sidebar": "Contents",
   "toc_cell": false,
   "toc_position": {},
   "toc_section_display": true,
   "toc_window_display": false
  }
 },
 "nbformat": 4,
 "nbformat_minor": 5
}
